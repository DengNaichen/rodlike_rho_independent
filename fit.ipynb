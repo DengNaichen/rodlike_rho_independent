{
 "cells": [
  {
   "cell_type": "code",
   "execution_count": 1,
   "outputs": [
    {
     "ename": "TypeError",
     "evalue": "__init__() missing 2 required positional arguments: 'lower' and 'upper'",
     "output_type": "error",
     "traceback": [
      "\u001B[0;31m---------------------------------------------------------------------------\u001B[0m",
      "\u001B[0;31mTypeError\u001B[0m                                 Traceback (most recent call last)",
      "\u001B[0;32m<ipython-input-1-df383fac60ca>\u001B[0m in \u001B[0;36m<module>\u001B[0;34m\u001B[0m\n\u001B[1;32m      5\u001B[0m \u001B[0;32mimport\u001B[0m \u001B[0mmatplotlib\u001B[0m\u001B[0;34m.\u001B[0m\u001B[0mpyplot\u001B[0m \u001B[0;32mas\u001B[0m \u001B[0mplt\u001B[0m\u001B[0;34m\u001B[0m\u001B[0;34m\u001B[0m\u001B[0m\n\u001B[1;32m      6\u001B[0m \u001B[0;34m\u001B[0m\u001B[0m\n\u001B[0;32m----> 7\u001B[0;31m \u001B[0mdata_set\u001B[0m \u001B[0;34m=\u001B[0m \u001B[0mData\u001B[0m\u001B[0;34m(\u001B[0m\u001B[0;36m128\u001B[0m\u001B[0;34m)\u001B[0m\u001B[0;34m\u001B[0m\u001B[0;34m\u001B[0m\u001B[0m\n\u001B[0m\u001B[1;32m      8\u001B[0m \u001B[0mx\u001B[0m\u001B[0;34m,\u001B[0m \u001B[0my\u001B[0m \u001B[0;34m=\u001B[0m \u001B[0mdata_set\u001B[0m\u001B[0;34m.\u001B[0m\u001B[0mget\u001B[0m\u001B[0;34m(\u001B[0m\u001B[0;34m)\u001B[0m\u001B[0;34m\u001B[0m\u001B[0;34m\u001B[0m\u001B[0m\n\u001B[1;32m      9\u001B[0m \u001B[0mmatrix\u001B[0m \u001B[0;34m=\u001B[0m \u001B[0mdata_set\u001B[0m\u001B[0;34m.\u001B[0m\u001B[0mmatrix\u001B[0m\u001B[0;34m(\u001B[0m\u001B[0;34m)\u001B[0m\u001B[0;34m\u001B[0m\u001B[0;34m\u001B[0m\u001B[0m\n",
      "\u001B[0;31mTypeError\u001B[0m: __init__() missing 2 required positional arguments: 'lower' and 'upper'"
     ]
    }
   ],
   "source": [
    "import torch\n",
    "from Net import Net\n",
    "from Data import Data\n",
    "from Train import fit, train_free_energy\n",
    "import matplotlib.pyplot as plt\n",
    "\n",
    "data_set = Data(128)\n",
    "x, y = data_set.get()\n",
    "matrix = data_set.matrix()\n",
    "Layers = [1, 16, 16, 16, 16, 1]\n",
    "net = Net(Layers)\n",
    "learning_rate = 0.01\n",
    "optimizer = torch.optim.Adam(net.parameters(), lr=learning_rate)\n",
    "# data_set.plot_data()\n",
    "net = fit(x, y, optimizer, net, 500, diagram=False)\n",
    "\n",
    "yhat = net(x)\n",
    "plt.scatter(x.data.numpy(), yhat.data.numpy(), marker=\".\")\n",
    "plt.show()"
   ],
   "metadata": {
    "collapsed": false,
    "pycharm": {
     "name": "#%%\n"
    },
    "tags": []
   }
  },
  {
   "cell_type": "code",
   "execution_count": null,
   "metadata": {},
   "outputs": [],
   "source": [
    "data_set = Data(128)\n",
    "x, y = data_set.get()\n",
    "matrics = data_set.matrix()\n",
    "Layers = [1, 16, 16, 16, 16, 1]\n",
    "net = Net(Layers)\n",
    "learning_rate = 0.01\n",
    "optimizer = torch.optim.Adam(net.parameters(), lr=learning_rate)\n",
    "rho = 5\n",
    "lambd = 10\n",
    "net = train_free_energy(net, x, rho, lambd, optimizer, matrics, epochs=50000, diagram = False)\n",
    "yhat = net(x)\n",
    "plt.scatter(x.data.numpy(), yhat.data.numpy(), marker=\".\")\n",
    "plt.show()"
   ]
  },
  {
   "cell_type": "code",
   "execution_count": null,
   "metadata": {},
   "outputs": [],
   "source": [
    "I = torch.trapz(yhat.T, x.T)\n",
    "print (I)\n"
   ]
  },
  {
   "cell_type": "code",
   "execution_count": null,
   "outputs": [],
   "source": [],
   "metadata": {
    "collapsed": false,
    "pycharm": {
     "name": "#%%\n"
    }
   }
  }
 ],
 "metadata": {
  "kernelspec": {
   "display_name": "Python 3",
   "language": "python",
   "name": "python3"
  },
  "language_info": {
   "codemirror_mode": {
    "name": "ipython",
    "version": 2
   },
   "file_extension": ".py",
   "mimetype": "text/x-python",
   "name": "python",
   "nbconvert_exporter": "python",
   "pygments_lexer": "ipython2",
   "version": "3.8.3-final"
  }
 },
 "nbformat": 4,
 "nbformat_minor": 0
}