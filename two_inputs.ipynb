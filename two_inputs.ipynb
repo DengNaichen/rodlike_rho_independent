{
 "cells": [
  {
   "cell_type": "code",
   "execution_count": 32,
   "metadata": {
    "collapsed": true
   },
   "outputs": [],
   "source": [
    "import torch\n",
    "from Net import Net\n",
    "from Data import Data\n",
    "from Train import train_free_energy_two_inputs\n",
    "import numpy as np\n",
    "from scipy import integrate\n",
    "import matplotlib.pyplot as plt\n",
    "from mpl_toolkits.mplot3d import Axes3D\n",
    "torch.manual_seed(3)\n",
    "%matplotlib qt"
   ]
  },
  {
   "cell_type": "markdown",
   "source": [
    "#### Make some data"
   ],
   "metadata": {
    "collapsed": false,
    "pycharm": {
     "name": "#%% md\n"
    }
   }
  },
  {
   "cell_type": "code",
   "execution_count": 10,
   "outputs": [],
   "source": [
    "points = 499\n",
    "lower = 0.00001\n",
    "upper = 2*np.pi + lower\n",
    "data_set = Data(points, lower, upper)\n",
    "x, y = data_set.get()\n",
    "matrix = data_set.matrix()\n",
    "simpson_matrix = data_set.simpson_matrix()\n",
    "input_var = data_set.input_variables()\n",
    "output_dict = {}"
   ],
   "metadata": {
    "collapsed": false,
    "pycharm": {
     "name": "#%%\n"
    }
   }
  },
  {
   "cell_type": "code",
   "execution_count": 11,
   "outputs": [],
   "source": [
    "Layers = [2, 16, 16, 16, 1]"
   ],
   "metadata": {
    "collapsed": false,
    "pycharm": {
     "name": "#%%\n"
    }
   }
  },
  {
   "cell_type": "code",
   "execution_count": 12,
   "outputs": [],
   "source": [
    "learning_rate = 0.02\n",
    "rho_list = np.linspace(3.25, 6, 12, endpoint=True)\n",
    "for rho in rho_list:\n",
    "    net = Net(Layers)\n",
    "    optimizer = torch.optim.Adam(net.parameters(), lr=learning_rate)\n",
    "    scheduler = torch.optim.lr_scheduler.StepLR(optimizer, step_size=1000, gamma=0.9)\n",
    "    lambd = 200\n",
    "    net = train_free_energy_two_inputs(net, x, input_var, rho, lambd, scheduler,\n",
    "                                   simpson_matrix ,optimizer, matrix, epochs = 20000,\n",
    "                                   pre_training=True, diagram=False)\n",
    "    output = net(input_var)\n",
    "    factor = integrate.simps(output.data.numpy().T, x.data.numpy().T)\n",
    "    output = output.data.numpy() * (1/factor)\n",
    "    output_dict[\"rho\" + str(rho)] = output"
   ],
   "metadata": {
    "collapsed": false,
    "pycharm": {
     "name": "#%%\n"
    }
   }
  },
  {
   "cell_type": "code",
   "execution_count": 13,
   "outputs": [],
   "source": [
    "rho = 5.5\n",
    "net = Net(Layers)\n",
    "optimizer = torch.optim.Adam(net.parameters(), lr=learning_rate)\n",
    "scheduler = torch.optim.lr_scheduler.StepLR(optimizer, step_size=1000, gamma=0.9)\n",
    "lambd = 200\n",
    "net = train_free_energy_two_inputs(net, x, input_var, rho, lambd, scheduler,\n",
    "                               simpson_matrix ,optimizer, matrix, epochs = 20000,\n",
    "                               pre_training=True, diagram=False)\n",
    "output = net(input_var)\n",
    "factor = integrate.simps(output.data.numpy().T, x.data.numpy().T)\n",
    "output = output.data.numpy() * (1/factor)\n",
    "output_dict[\"rho\" + str(rho)] = output"
   ],
   "metadata": {
    "collapsed": false,
    "pycharm": {
     "name": "#%%\n"
    }
   }
  },
  {
   "cell_type": "code",
   "execution_count": 14,
   "outputs": [],
   "source": [
    "for rho in rho_list:\n",
    "    plt.plot(x.data.numpy(), output_dict[\"rho\" + str(rho)], label= \"$\\\\rho_{0} = $\" + str(rho))\n",
    "    plt.xlabel(\"$\\\\theta$\")\n",
    "    plt.ylabel(\"$f(\\\\theta)$\")\n",
    "    plt.ylim([0, 0.6])\n",
    "    plt.title(\"distribution function for rodlike molecule\")\n",
    "    plt.legend(loc= 'upper right')\n",
    "    plt.show()\n",
    "    plt.savefig('figure/' + 'rho=' + str(rho) + '.pdf')"
   ],
   "metadata": {
    "collapsed": false,
    "pycharm": {
     "name": "#%%\n"
    }
   }
  },
  {
   "cell_type": "markdown",
   "source": [
    "plot 3D diagram"
   ],
   "metadata": {
    "collapsed": false,
    "pycharm": {
     "name": "#%% md\n"
    }
   }
  },
  {
   "cell_type": "code",
   "execution_count": 15,
   "outputs": [
    {
     "name": "stdout",
     "output_type": "stream",
     "text": [
      "dict_keys(['rho3.25', 'rho3.5', 'rho3.75', 'rho4.0', 'rho4.25', 'rho4.5', 'rho4.75', 'rho5.0', 'rho5.25', 'rho5.5', 'rho5.75', 'rho6.0'])\n"
     ]
    }
   ],
   "source": [
    "print (output_dict.keys())"
   ],
   "metadata": {
    "collapsed": false,
    "pycharm": {
     "name": "#%%\n"
    }
   }
  },
  {
   "cell_type": "code",
   "execution_count": 103,
   "outputs": [
    {
     "data": {
      "text/plain": "[<matplotlib.lines.Line2D at 0x7f87a5138be0>]"
     },
     "execution_count": 103,
     "metadata": {},
     "output_type": "execute_result"
    }
   ],
   "source": [
    "plt.plot(x.data.numpy(), output_dict[\"rho\" + str(4.25)])"
   ],
   "metadata": {
    "collapsed": false,
    "pycharm": {
     "name": "#%%\n"
    }
   }
  },
  {
   "cell_type": "code",
   "execution_count": 30,
   "outputs": [],
   "source": [
    "s = 5.5\n",
    "output_dict[\"rho\" + str(s)] = np.flipud(output_dict[\"rho\" + str(s)])\n",
    "for i in range(len(output_dict[\"rho\" + str(s)])):\n",
    "    if output_dict[\"rho\" + str(s)][i] < output_dict[\"rho\" + str(s)][i+1]:\n",
    "        first = output_dict[\"rho\" + str(s)][0: i]\n",
    "        second = output_dict[\"rho\" + str(s)][i:]\n",
    "        final = np.append(second, first)\n",
    "        output_dict[\"rho\" + str(s)] =\n",
    "        break\n"
   ],
   "metadata": {
    "collapsed": false,
    "pycharm": {
     "name": "#%%\n"
    }
   }
  },
  {
   "cell_type": "code",
   "execution_count": 44,
   "outputs": [],
   "source": [
    "s = 6.0\n",
    "output_dict[\"rho\" + str(s)] = output_dict[\"rho\" + str(s)].reshape(-1, 1)"
   ],
   "metadata": {
    "collapsed": false,
    "pycharm": {
     "name": "#%%\n"
    }
   }
  },
  {
   "cell_type": "code",
   "execution_count": 58,
   "outputs": [],
   "source": [
    "height = np.concatenate([output_dict[\"rho\" + str(3.25)],\n",
    "                        output_dict[\"rho\" + str(3.5)],\n",
    "                        output_dict[\"rho\" + str(3.75)],\n",
    "                        output_dict[\"rho\" + str(4.0)],\n",
    "                        output_dict[\"rho\" + str(4.25)],\n",
    "                        output_dict[\"rho\" + str(4.5)],\n",
    "                        output_dict[\"rho\" + str(4.75)],\n",
    "                        output_dict[\"rho\" + str(5.0)],\n",
    "                        output_dict[\"rho\" + str(5.25)],\n",
    "                        output_dict[\"rho\" + str(5.5)],\n",
    "                        output_dict[\"rho\" + str(5.75)],\n",
    "                        output_dict[\"rho\" + str(6.0)]],\n",
    "                        axis = 1)\n",
    "fig = plt.figure()\n",
    "ax = Axes3D(fig)\n",
    "X, Y = np.meshgrid(rho_list, x.data.numpy())\n",
    "ax.plot_surface(X, Y, height, rstride=1, cstride=1, cmap=plt.get_cmap('rainbow'))\n",
    "ax.set_xlabel('$\\\\rho_{0}$')\n",
    "ax.set_ylabel('$\\\\theta$')\n",
    "ax.set_zlabel('$f(\\\\theta)$')\n",
    "plt.show()"
   ],
   "metadata": {
    "collapsed": false,
    "pycharm": {
     "name": "#%%\n"
    }
   }
  },
  {
   "cell_type": "code",
   "execution_count": 48,
   "outputs": [],
   "source": [],
   "metadata": {
    "collapsed": false,
    "pycharm": {
     "name": "#%%\n"
    }
   }
  },
  {
   "cell_type": "code",
   "execution_count": 49,
   "outputs": [
    {
     "ename": "ValueError",
     "evalue": "shape mismatch: objects cannot be broadcast to a single shape",
     "output_type": "error",
     "traceback": [
      "\u001B[0;31m---------------------------------------------------------------------------\u001B[0m",
      "\u001B[0;31mValueError\u001B[0m                                Traceback (most recent call last)",
      "\u001B[0;32m<ipython-input-49-f2d958542e30>\u001B[0m in \u001B[0;36m<module>\u001B[0;34m\u001B[0m\n\u001B[0;32m----> 1\u001B[0;31m \u001B[0max\u001B[0m\u001B[0;34m.\u001B[0m\u001B[0mplot_surface\u001B[0m\u001B[0;34m(\u001B[0m\u001B[0mX\u001B[0m\u001B[0;34m,\u001B[0m \u001B[0mY\u001B[0m\u001B[0;34m,\u001B[0m \u001B[0mheight\u001B[0m\u001B[0;34m,\u001B[0m \u001B[0mrstride\u001B[0m\u001B[0;34m=\u001B[0m\u001B[0;36m1\u001B[0m\u001B[0;34m,\u001B[0m \u001B[0mcstride\u001B[0m\u001B[0;34m=\u001B[0m\u001B[0;36m1\u001B[0m\u001B[0;34m,\u001B[0m \u001B[0mcmap\u001B[0m\u001B[0;34m=\u001B[0m\u001B[0mplt\u001B[0m\u001B[0;34m.\u001B[0m\u001B[0mget_cmap\u001B[0m\u001B[0;34m(\u001B[0m\u001B[0;34m'rainbow'\u001B[0m\u001B[0;34m)\u001B[0m\u001B[0;34m)\u001B[0m\u001B[0;34m\u001B[0m\u001B[0;34m\u001B[0m\u001B[0m\n\u001B[0m\u001B[1;32m      2\u001B[0m \u001B[0;34m\u001B[0m\u001B[0m\n",
      "\u001B[0;32m~/.conda/envs/deep-neural-networks-with-pytorch/lib/python3.8/site-packages/mpl_toolkits/mplot3d/axes3d.py\u001B[0m in \u001B[0;36mplot_surface\u001B[0;34m(self, X, Y, Z, norm, vmin, vmax, lightsource, *args, **kwargs)\u001B[0m\n\u001B[1;32m   1561\u001B[0m \u001B[0;34m\u001B[0m\u001B[0m\n\u001B[1;32m   1562\u001B[0m         \u001B[0;31m# TODO: Support masked arrays\u001B[0m\u001B[0;34m\u001B[0m\u001B[0;34m\u001B[0m\u001B[0;34m\u001B[0m\u001B[0m\n\u001B[0;32m-> 1563\u001B[0;31m         \u001B[0mX\u001B[0m\u001B[0;34m,\u001B[0m \u001B[0mY\u001B[0m\u001B[0;34m,\u001B[0m \u001B[0mZ\u001B[0m \u001B[0;34m=\u001B[0m \u001B[0mnp\u001B[0m\u001B[0;34m.\u001B[0m\u001B[0mbroadcast_arrays\u001B[0m\u001B[0;34m(\u001B[0m\u001B[0mX\u001B[0m\u001B[0;34m,\u001B[0m \u001B[0mY\u001B[0m\u001B[0;34m,\u001B[0m \u001B[0mZ\u001B[0m\u001B[0;34m)\u001B[0m\u001B[0;34m\u001B[0m\u001B[0;34m\u001B[0m\u001B[0m\n\u001B[0m\u001B[1;32m   1564\u001B[0m         \u001B[0mrows\u001B[0m\u001B[0;34m,\u001B[0m \u001B[0mcols\u001B[0m \u001B[0;34m=\u001B[0m \u001B[0mZ\u001B[0m\u001B[0;34m.\u001B[0m\u001B[0mshape\u001B[0m\u001B[0;34m\u001B[0m\u001B[0;34m\u001B[0m\u001B[0m\n\u001B[1;32m   1565\u001B[0m \u001B[0;34m\u001B[0m\u001B[0m\n",
      "\u001B[0;32m<__array_function__ internals>\u001B[0m in \u001B[0;36mbroadcast_arrays\u001B[0;34m(*args, **kwargs)\u001B[0m\n",
      "\u001B[0;32m~/.conda/envs/deep-neural-networks-with-pytorch/lib/python3.8/site-packages/numpy/lib/stride_tricks.py\u001B[0m in \u001B[0;36mbroadcast_arrays\u001B[0;34m(subok, *args)\u001B[0m\n\u001B[1;32m    256\u001B[0m     \u001B[0margs\u001B[0m \u001B[0;34m=\u001B[0m \u001B[0;34m[\u001B[0m\u001B[0mnp\u001B[0m\u001B[0;34m.\u001B[0m\u001B[0marray\u001B[0m\u001B[0;34m(\u001B[0m\u001B[0m_m\u001B[0m\u001B[0;34m,\u001B[0m \u001B[0mcopy\u001B[0m\u001B[0;34m=\u001B[0m\u001B[0;32mFalse\u001B[0m\u001B[0;34m,\u001B[0m \u001B[0msubok\u001B[0m\u001B[0;34m=\u001B[0m\u001B[0msubok\u001B[0m\u001B[0;34m)\u001B[0m \u001B[0;32mfor\u001B[0m \u001B[0m_m\u001B[0m \u001B[0;32min\u001B[0m \u001B[0margs\u001B[0m\u001B[0;34m]\u001B[0m\u001B[0;34m\u001B[0m\u001B[0;34m\u001B[0m\u001B[0m\n\u001B[1;32m    257\u001B[0m \u001B[0;34m\u001B[0m\u001B[0m\n\u001B[0;32m--> 258\u001B[0;31m     \u001B[0mshape\u001B[0m \u001B[0;34m=\u001B[0m \u001B[0m_broadcast_shape\u001B[0m\u001B[0;34m(\u001B[0m\u001B[0;34m*\u001B[0m\u001B[0margs\u001B[0m\u001B[0;34m)\u001B[0m\u001B[0;34m\u001B[0m\u001B[0;34m\u001B[0m\u001B[0m\n\u001B[0m\u001B[1;32m    259\u001B[0m \u001B[0;34m\u001B[0m\u001B[0m\n\u001B[1;32m    260\u001B[0m     \u001B[0;32mif\u001B[0m \u001B[0mall\u001B[0m\u001B[0;34m(\u001B[0m\u001B[0marray\u001B[0m\u001B[0;34m.\u001B[0m\u001B[0mshape\u001B[0m \u001B[0;34m==\u001B[0m \u001B[0mshape\u001B[0m \u001B[0;32mfor\u001B[0m \u001B[0marray\u001B[0m \u001B[0;32min\u001B[0m \u001B[0margs\u001B[0m\u001B[0;34m)\u001B[0m\u001B[0;34m:\u001B[0m\u001B[0;34m\u001B[0m\u001B[0;34m\u001B[0m\u001B[0m\n",
      "\u001B[0;32m~/.conda/envs/deep-neural-networks-with-pytorch/lib/python3.8/site-packages/numpy/lib/stride_tricks.py\u001B[0m in \u001B[0;36m_broadcast_shape\u001B[0;34m(*args)\u001B[0m\n\u001B[1;32m    187\u001B[0m     \u001B[0;31m# use the old-iterator because np.nditer does not handle size 0 arrays\u001B[0m\u001B[0;34m\u001B[0m\u001B[0;34m\u001B[0m\u001B[0;34m\u001B[0m\u001B[0m\n\u001B[1;32m    188\u001B[0m     \u001B[0;31m# consistently\u001B[0m\u001B[0;34m\u001B[0m\u001B[0;34m\u001B[0m\u001B[0;34m\u001B[0m\u001B[0m\n\u001B[0;32m--> 189\u001B[0;31m     \u001B[0mb\u001B[0m \u001B[0;34m=\u001B[0m \u001B[0mnp\u001B[0m\u001B[0;34m.\u001B[0m\u001B[0mbroadcast\u001B[0m\u001B[0;34m(\u001B[0m\u001B[0;34m*\u001B[0m\u001B[0margs\u001B[0m\u001B[0;34m[\u001B[0m\u001B[0;34m:\u001B[0m\u001B[0;36m32\u001B[0m\u001B[0;34m]\u001B[0m\u001B[0;34m)\u001B[0m\u001B[0;34m\u001B[0m\u001B[0;34m\u001B[0m\u001B[0m\n\u001B[0m\u001B[1;32m    190\u001B[0m     \u001B[0;31m# unfortunately, it cannot handle 32 or more arguments directly\u001B[0m\u001B[0;34m\u001B[0m\u001B[0;34m\u001B[0m\u001B[0;34m\u001B[0m\u001B[0m\n\u001B[1;32m    191\u001B[0m     \u001B[0;32mfor\u001B[0m \u001B[0mpos\u001B[0m \u001B[0;32min\u001B[0m \u001B[0mrange\u001B[0m\u001B[0;34m(\u001B[0m\u001B[0;36m32\u001B[0m\u001B[0;34m,\u001B[0m \u001B[0mlen\u001B[0m\u001B[0;34m(\u001B[0m\u001B[0margs\u001B[0m\u001B[0;34m)\u001B[0m\u001B[0;34m,\u001B[0m \u001B[0;36m31\u001B[0m\u001B[0;34m)\u001B[0m\u001B[0;34m:\u001B[0m\u001B[0;34m\u001B[0m\u001B[0;34m\u001B[0m\u001B[0m\n",
      "\u001B[0;31mValueError\u001B[0m: shape mismatch: objects cannot be broadcast to a single shape"
     ]
    }
   ],
   "source": [],
   "metadata": {
    "collapsed": false,
    "pycharm": {
     "name": "#%%\n"
    }
   }
  },
  {
   "cell_type": "code",
   "execution_count": null,
   "outputs": [],
   "source": [],
   "metadata": {
    "collapsed": false,
    "pycharm": {
     "name": "#%%\n"
    }
   }
  }
 ],
 "metadata": {
  "kernelspec": {
   "name": "python3",
   "language": "python",
   "display_name": "Python 3"
  },
  "language_info": {
   "codemirror_mode": {
    "name": "ipython",
    "version": 2
   },
   "file_extension": ".py",
   "mimetype": "text/x-python",
   "name": "python",
   "nbconvert_exporter": "python",
   "pygments_lexer": "ipython2",
   "version": "3.8.5-final"
  }
 },
 "nbformat": 4,
 "nbformat_minor": 0
}